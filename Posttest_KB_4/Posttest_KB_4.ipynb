{
 "cells": [
  {
   "cell_type": "markdown",
   "id": "05ab9279-122a-4d14-8b5f-9838d93e21cb",
   "metadata": {},
   "source": [
    "## POSTTEST 4"
   ]
  },
  {
   "cell_type": "markdown",
   "id": "3232c4ed-0db5-4e16-8268-9ec64bd96598",
   "metadata": {},
   "source": [
    "## NAMA : NOVITASARI MALISAN"
   ]
  },
  {
   "cell_type": "markdown",
   "id": "67a0167e-e13d-4e43-9e9b-6fde88a9426d",
   "metadata": {},
   "source": [
    "## NIM : 210106133"
   ]
  },
  {
   "cell_type": "code",
   "execution_count": 6,
   "id": "5ba26418-4834-4225-8087-dbc5867ec967",
   "metadata": {},
   "outputs": [],
   "source": [
    "import numpy as np\n",
    "import pandas as pd\n",
    "from sklearn.preprocessing import MinMaxScaler, StandardScaler, OneHotEncoder\n",
    "from sklearn.model_selection import train_test_split\n",
    "from sklearn.impute import SimpleImputer"
   ]
  },
  {
   "cell_type": "code",
   "execution_count": 7,
   "id": "611c6f6f-df78-44b1-8640-c44e4aff50d6",
   "metadata": {},
   "outputs": [
    {
     "data": {
      "text/html": [
       "<div>\n",
       "<style scoped>\n",
       "    .dataframe tbody tr th:only-of-type {\n",
       "        vertical-align: middle;\n",
       "    }\n",
       "\n",
       "    .dataframe tbody tr th {\n",
       "        vertical-align: top;\n",
       "    }\n",
       "\n",
       "    .dataframe thead th {\n",
       "        text-align: right;\n",
       "    }\n",
       "</style>\n",
       "<table border=\"1\" class=\"dataframe\">\n",
       "  <thead>\n",
       "    <tr style=\"text-align: right;\">\n",
       "      <th></th>\n",
       "      <th>Name</th>\n",
       "      <th>Date</th>\n",
       "      <th>Rate</th>\n",
       "      <th>Votes</th>\n",
       "      <th>Genre</th>\n",
       "      <th>Duration</th>\n",
       "      <th>Type</th>\n",
       "      <th>Certificate</th>\n",
       "      <th>Episodes</th>\n",
       "      <th>Nudity</th>\n",
       "      <th>Violence</th>\n",
       "      <th>Profanity</th>\n",
       "      <th>Alcohol</th>\n",
       "      <th>Frightening</th>\n",
       "    </tr>\n",
       "  </thead>\n",
       "  <tbody>\n",
       "    <tr>\n",
       "      <th>0</th>\n",
       "      <td>No Time to Die</td>\n",
       "      <td>2021</td>\n",
       "      <td>7.6</td>\n",
       "      <td>107,163</td>\n",
       "      <td>Action, Adventure, Thriller</td>\n",
       "      <td>163.0</td>\n",
       "      <td>Film</td>\n",
       "      <td>PG-13</td>\n",
       "      <td>-</td>\n",
       "      <td>Mild</td>\n",
       "      <td>Moderate</td>\n",
       "      <td>Mild</td>\n",
       "      <td>Mild</td>\n",
       "      <td>Moderate</td>\n",
       "    </tr>\n",
       "    <tr>\n",
       "      <th>1</th>\n",
       "      <td>The Guilty</td>\n",
       "      <td>2021</td>\n",
       "      <td>6.3</td>\n",
       "      <td>64,375</td>\n",
       "      <td>Crime, Drama, Thriller</td>\n",
       "      <td>90.0</td>\n",
       "      <td>Film</td>\n",
       "      <td>R</td>\n",
       "      <td>-</td>\n",
       "      <td>NaN</td>\n",
       "      <td>NaN</td>\n",
       "      <td>Severe</td>\n",
       "      <td>NaN</td>\n",
       "      <td>Moderate</td>\n",
       "    </tr>\n",
       "    <tr>\n",
       "      <th>2</th>\n",
       "      <td>The Many Saints of Newark</td>\n",
       "      <td>2021</td>\n",
       "      <td>6.4</td>\n",
       "      <td>27,145</td>\n",
       "      <td>Crime, Drama</td>\n",
       "      <td>120.0</td>\n",
       "      <td>Film</td>\n",
       "      <td>R</td>\n",
       "      <td>-</td>\n",
       "      <td>Moderate</td>\n",
       "      <td>Severe</td>\n",
       "      <td>Severe</td>\n",
       "      <td>Moderate</td>\n",
       "      <td>Moderate</td>\n",
       "    </tr>\n",
       "    <tr>\n",
       "      <th>3</th>\n",
       "      <td>Venom: Let There Be Carnage</td>\n",
       "      <td>2021</td>\n",
       "      <td>6.4</td>\n",
       "      <td>30,443</td>\n",
       "      <td>Action, Adventure, Sci-Fi</td>\n",
       "      <td>97.0</td>\n",
       "      <td>Film</td>\n",
       "      <td>PG-13</td>\n",
       "      <td>-</td>\n",
       "      <td>NaN</td>\n",
       "      <td>Moderate</td>\n",
       "      <td>Moderate</td>\n",
       "      <td>Mild</td>\n",
       "      <td>Moderate</td>\n",
       "    </tr>\n",
       "    <tr>\n",
       "      <th>4</th>\n",
       "      <td>Dune</td>\n",
       "      <td>2021</td>\n",
       "      <td>8.3</td>\n",
       "      <td>84,636</td>\n",
       "      <td>Action, Adventure, Drama</td>\n",
       "      <td>155.0</td>\n",
       "      <td>Film</td>\n",
       "      <td>PG-13</td>\n",
       "      <td>-</td>\n",
       "      <td>NaN</td>\n",
       "      <td>Moderate</td>\n",
       "      <td>NaN</td>\n",
       "      <td>Mild</td>\n",
       "      <td>Moderate</td>\n",
       "    </tr>\n",
       "    <tr>\n",
       "      <th>...</th>\n",
       "      <td>...</td>\n",
       "      <td>...</td>\n",
       "      <td>...</td>\n",
       "      <td>...</td>\n",
       "      <td>...</td>\n",
       "      <td>...</td>\n",
       "      <td>...</td>\n",
       "      <td>...</td>\n",
       "      <td>...</td>\n",
       "      <td>...</td>\n",
       "      <td>...</td>\n",
       "      <td>...</td>\n",
       "      <td>...</td>\n",
       "      <td>...</td>\n",
       "    </tr>\n",
       "    <tr>\n",
       "      <th>6173</th>\n",
       "      <td>The Human Centipede II (Full Sequence)</td>\n",
       "      <td>2011</td>\n",
       "      <td>3.8</td>\n",
       "      <td>37,492</td>\n",
       "      <td>Horror</td>\n",
       "      <td>91.0</td>\n",
       "      <td>Film</td>\n",
       "      <td>Not Rated</td>\n",
       "      <td>-</td>\n",
       "      <td>Severe</td>\n",
       "      <td>Severe</td>\n",
       "      <td>Severe</td>\n",
       "      <td>Mild</td>\n",
       "      <td>Severe</td>\n",
       "    </tr>\n",
       "    <tr>\n",
       "      <th>6174</th>\n",
       "      <td>Double Indemnity</td>\n",
       "      <td>1944</td>\n",
       "      <td>8.3</td>\n",
       "      <td>150,448</td>\n",
       "      <td>Crime, Drama, Film-Noir</td>\n",
       "      <td>107.0</td>\n",
       "      <td>Film</td>\n",
       "      <td>Passed</td>\n",
       "      <td>-</td>\n",
       "      <td>NaN</td>\n",
       "      <td>Mild</td>\n",
       "      <td>NaN</td>\n",
       "      <td>Mild</td>\n",
       "      <td>Mild</td>\n",
       "    </tr>\n",
       "    <tr>\n",
       "      <th>6175</th>\n",
       "      <td>Before the Devil Knows You're Dead</td>\n",
       "      <td>2007</td>\n",
       "      <td>7.3</td>\n",
       "      <td>100,668</td>\n",
       "      <td>Crime, Drama, Thriller</td>\n",
       "      <td>117.0</td>\n",
       "      <td>Film</td>\n",
       "      <td>R</td>\n",
       "      <td>-</td>\n",
       "      <td>Severe</td>\n",
       "      <td>Moderate</td>\n",
       "      <td>Severe</td>\n",
       "      <td>Severe</td>\n",
       "      <td>Severe</td>\n",
       "    </tr>\n",
       "    <tr>\n",
       "      <th>6176</th>\n",
       "      <td>Queen Bees</td>\n",
       "      <td>2021</td>\n",
       "      <td>6.0</td>\n",
       "      <td>887</td>\n",
       "      <td>Comedy, Drama, Romance</td>\n",
       "      <td>100.0</td>\n",
       "      <td>Film</td>\n",
       "      <td>PG-13</td>\n",
       "      <td>-</td>\n",
       "      <td>NaN</td>\n",
       "      <td>NaN</td>\n",
       "      <td>Mild</td>\n",
       "      <td>Moderate</td>\n",
       "      <td>NaN</td>\n",
       "    </tr>\n",
       "    <tr>\n",
       "      <th>6177</th>\n",
       "      <td>Death Race</td>\n",
       "      <td>2008</td>\n",
       "      <td>6.3</td>\n",
       "      <td>203,578</td>\n",
       "      <td>Action, Sci-Fi, Thriller</td>\n",
       "      <td>105.0</td>\n",
       "      <td>Film</td>\n",
       "      <td>R</td>\n",
       "      <td>-</td>\n",
       "      <td>Mild</td>\n",
       "      <td>Severe</td>\n",
       "      <td>Severe</td>\n",
       "      <td>Mild</td>\n",
       "      <td>Moderate</td>\n",
       "    </tr>\n",
       "  </tbody>\n",
       "</table>\n",
       "<p>6178 rows × 14 columns</p>\n",
       "</div>"
      ],
      "text/plain": [
       "                                        Name  Date Rate    Votes  \\\n",
       "0                             No Time to Die  2021  7.6  107,163   \n",
       "1                                 The Guilty  2021  6.3   64,375   \n",
       "2                  The Many Saints of Newark  2021  6.4   27,145   \n",
       "3                Venom: Let There Be Carnage  2021  6.4   30,443   \n",
       "4                                       Dune  2021  8.3   84,636   \n",
       "...                                      ...   ...  ...      ...   \n",
       "6173  The Human Centipede II (Full Sequence)  2011  3.8   37,492   \n",
       "6174                        Double Indemnity  1944  8.3  150,448   \n",
       "6175      Before the Devil Knows You're Dead  2007  7.3  100,668   \n",
       "6176                              Queen Bees  2021  6.0      887   \n",
       "6177                              Death Race  2008  6.3  203,578   \n",
       "\n",
       "                            Genre  Duration  Type Certificate Episodes  \\\n",
       "0     Action, Adventure, Thriller     163.0  Film       PG-13        -   \n",
       "1          Crime, Drama, Thriller      90.0  Film           R        -   \n",
       "2                    Crime, Drama     120.0  Film           R        -   \n",
       "3       Action, Adventure, Sci-Fi      97.0  Film       PG-13        -   \n",
       "4        Action, Adventure, Drama     155.0  Film       PG-13        -   \n",
       "...                           ...       ...   ...         ...      ...   \n",
       "6173                       Horror      91.0  Film   Not Rated        -   \n",
       "6174      Crime, Drama, Film-Noir     107.0  Film      Passed        -   \n",
       "6175       Crime, Drama, Thriller     117.0  Film           R        -   \n",
       "6176       Comedy, Drama, Romance     100.0  Film       PG-13        -   \n",
       "6177     Action, Sci-Fi, Thriller     105.0  Film           R        -   \n",
       "\n",
       "        Nudity  Violence Profanity   Alcohol Frightening  \n",
       "0         Mild  Moderate      Mild      Mild    Moderate  \n",
       "1          NaN       NaN    Severe       NaN    Moderate  \n",
       "2     Moderate    Severe    Severe  Moderate    Moderate  \n",
       "3          NaN  Moderate  Moderate      Mild    Moderate  \n",
       "4          NaN  Moderate       NaN      Mild    Moderate  \n",
       "...        ...       ...       ...       ...         ...  \n",
       "6173    Severe    Severe    Severe      Mild      Severe  \n",
       "6174       NaN      Mild       NaN      Mild        Mild  \n",
       "6175    Severe  Moderate    Severe    Severe      Severe  \n",
       "6176       NaN       NaN      Mild  Moderate         NaN  \n",
       "6177      Mild    Severe    Severe      Mild    Moderate  \n",
       "\n",
       "[6178 rows x 14 columns]"
      ]
     },
     "execution_count": 7,
     "metadata": {},
     "output_type": "execute_result"
    }
   ],
   "source": [
    "df = pd.read_csv('imdb.csv')\n",
    "df"
   ]
  },
  {
   "cell_type": "markdown",
   "id": "3aa8e42c-f89b-4e53-a844-f5b6af9ae521",
   "metadata": {},
   "source": [
    "## INFO DATA"
   ]
  },
  {
   "cell_type": "code",
   "execution_count": 8,
   "id": "26e54d26-a23b-4ce9-a57a-fd8a25c4991e",
   "metadata": {},
   "outputs": [
    {
     "name": "stdout",
     "output_type": "stream",
     "text": [
      "<class 'pandas.core.frame.DataFrame'>\n",
      "RangeIndex: 6178 entries, 0 to 6177\n",
      "Data columns (total 14 columns):\n",
      " #   Column       Non-Null Count  Dtype  \n",
      "---  ------       --------------  -----  \n",
      " 0   Name         6178 non-null   object \n",
      " 1   Date         6178 non-null   int64  \n",
      " 2   Rate         6178 non-null   object \n",
      " 3   Votes        6178 non-null   object \n",
      " 4   Genre        6178 non-null   object \n",
      " 5   Duration     5877 non-null   float64\n",
      " 6   Type         6178 non-null   object \n",
      " 7   Certificate  5728 non-null   object \n",
      " 8   Episodes     6178 non-null   object \n",
      " 9   Nudity       4719 non-null   object \n",
      " 10  Violence     5504 non-null   object \n",
      " 11  Profanity    5520 non-null   object \n",
      " 12  Alcohol      5407 non-null   object \n",
      " 13  Frightening  5320 non-null   object \n",
      "dtypes: float64(1), int64(1), object(12)\n",
      "memory usage: 675.8+ KB\n"
     ]
    }
   ],
   "source": [
    "df.info()"
   ]
  },
  {
   "cell_type": "markdown",
   "id": "1eb7db54-0bba-4df9-afe1-de7042d17309",
   "metadata": {},
   "source": [
    "## 1. Membagi dataset menjadi training set dan testing set dengan proporsi 70:30"
   ]
  },
  {
   "cell_type": "code",
   "execution_count": 9,
   "id": "390a07eb-940d-4980-b4e5-3565ab8b5bed",
   "metadata": {},
   "outputs": [
    {
     "data": {
      "text/plain": [
       "(6178, 14)"
      ]
     },
     "execution_count": 9,
     "metadata": {},
     "output_type": "execute_result"
    }
   ],
   "source": [
    "df.shape"
   ]
  },
  {
   "cell_type": "code",
   "execution_count": 10,
   "id": "83b10c39-0a5a-4efe-95d8-7ed4fda30e96",
   "metadata": {},
   "outputs": [
    {
     "name": "stdout",
     "output_type": "stream",
     "text": [
      "Dimensi X_train (4324, 13)\n",
      "Dimensi X_test (1854, 13)\n",
      "Dimensi y_train (4324,)\n",
      "Dimensi y_test (1854,)\n"
     ]
    }
   ],
   "source": [
    "X = df.iloc[:, : -1]\n",
    "y = df.iloc[:, -1]\n",
    "\n",
    "X_train, X_test, y_train, y_test = train_test_split(X, y, test_size=0.3)\n",
    "\n",
    "print(\"Dimensi X_train\", X_train.shape)\n",
    "print(\"Dimensi X_test\", X_test.shape)\n",
    "print(\"Dimensi y_train\", y_train.shape)\n",
    "print(\"Dimensi y_test\", y_test.shape)"
   ]
  },
  {
   "cell_type": "markdown",
   "id": "e97801c6-b95d-4718-b7db-343f9d0858d4",
   "metadata": {},
   "source": [
    "## 2. Melakukan normalisasi data pada salah satu attribute menggunakan Min Max scaler dengan mengcopy dataset terlebih dahulu"
   ]
  },
  {
   "cell_type": "code",
   "execution_count": 14,
   "id": "dd8902ec-0be5-4a49-b668-aa6f1f69e47f",
   "metadata": {},
   "outputs": [
    {
     "name": "stdout",
     "output_type": "stream",
     "text": [
      "\n",
      "Data Sebelum dan Sesudah dilakukan normalisasi : \n",
      "\n"
     ]
    },
    {
     "data": {
      "text/html": [
       "<div>\n",
       "<style scoped>\n",
       "    .dataframe tbody tr th:only-of-type {\n",
       "        vertical-align: middle;\n",
       "    }\n",
       "\n",
       "    .dataframe tbody tr th {\n",
       "        vertical-align: top;\n",
       "    }\n",
       "\n",
       "    .dataframe thead th {\n",
       "        text-align: right;\n",
       "    }\n",
       "</style>\n",
       "<table border=\"1\" class=\"dataframe\">\n",
       "  <thead>\n",
       "    <tr style=\"text-align: right;\">\n",
       "      <th></th>\n",
       "      <th>Duration</th>\n",
       "      <th>Duration_normalisasi</th>\n",
       "    </tr>\n",
       "  </thead>\n",
       "  <tbody>\n",
       "    <tr>\n",
       "      <th>0</th>\n",
       "      <td>163.0</td>\n",
       "      <td>0.179287</td>\n",
       "    </tr>\n",
       "    <tr>\n",
       "      <th>1</th>\n",
       "      <td>90.0</td>\n",
       "      <td>0.097996</td>\n",
       "    </tr>\n",
       "    <tr>\n",
       "      <th>2</th>\n",
       "      <td>120.0</td>\n",
       "      <td>0.131403</td>\n",
       "    </tr>\n",
       "    <tr>\n",
       "      <th>3</th>\n",
       "      <td>97.0</td>\n",
       "      <td>0.105791</td>\n",
       "    </tr>\n",
       "    <tr>\n",
       "      <th>4</th>\n",
       "      <td>155.0</td>\n",
       "      <td>0.170379</td>\n",
       "    </tr>\n",
       "    <tr>\n",
       "      <th>5</th>\n",
       "      <td>30.0</td>\n",
       "      <td>0.031180</td>\n",
       "    </tr>\n",
       "    <tr>\n",
       "      <th>6</th>\n",
       "      <td>115.0</td>\n",
       "      <td>0.125835</td>\n",
       "    </tr>\n",
       "    <tr>\n",
       "      <th>7</th>\n",
       "      <td>NaN</td>\n",
       "      <td>NaN</td>\n",
       "    </tr>\n",
       "    <tr>\n",
       "      <th>8</th>\n",
       "      <td>NaN</td>\n",
       "      <td>NaN</td>\n",
       "    </tr>\n",
       "    <tr>\n",
       "      <th>9</th>\n",
       "      <td>45.0</td>\n",
       "      <td>0.047884</td>\n",
       "    </tr>\n",
       "  </tbody>\n",
       "</table>\n",
       "</div>"
      ],
      "text/plain": [
       "   Duration  Duration_normalisasi\n",
       "0     163.0              0.179287\n",
       "1      90.0              0.097996\n",
       "2     120.0              0.131403\n",
       "3      97.0              0.105791\n",
       "4     155.0              0.170379\n",
       "5      30.0              0.031180\n",
       "6     115.0              0.125835\n",
       "7       NaN                   NaN\n",
       "8       NaN                   NaN\n",
       "9      45.0              0.047884"
      ]
     },
     "execution_count": 14,
     "metadata": {},
     "output_type": "execute_result"
    }
   ],
   "source": [
    "min_max = MinMaxScaler()\n",
    "\n",
    "# Copy Data\n",
    "copy1 = df\n",
    "dataCopy_normalization = copy1[[\"Duration\"]]\n",
    "\n",
    "normalization = min_max.fit_transform(dataCopy_normalization[[\"Duration\"]])\n",
    "\n",
    "data_normalization = pd.DataFrame(normalization)\n",
    "data_normalization.columns =[\"Duration_normalisasi\"]\n",
    "\n",
    "dataCopy_normalization = dataCopy_normalization.join(data_normalization[\"Duration_normalisasi\"]).reset_index()\n",
    "dataCopy_normalization = dataCopy_normalization.drop(\"index\", axis=1)\n",
    "\n",
    "print()\n",
    "print(\"Data Sebelum dan Sesudah dilakukan normalisasi : \\n\")\n",
    "dataCopy_normalization.head(10)"
   ]
  },
  {
   "cell_type": "markdown",
   "id": "6b5fc103-1836-4419-ae0c-0fd7338a9c4a",
   "metadata": {},
   "source": [
    "## 3.Melakukan standarisasi pada dataset dengan membuat copy dataset terlebih dahulu"
   ]
  },
  {
   "cell_type": "code",
   "execution_count": 45,
   "id": "73b2c6a5-bd97-4077-a95d-87fca3c575b6",
   "metadata": {},
   "outputs": [
    {
     "name": "stdout",
     "output_type": "stream",
     "text": [
      "Atribut 'Date' Sebelum dan Sesudah Standarisasi:\n",
      "\n",
      "Sebelum Standarisasi:\n",
      "\n",
      "       Date\n",
      "0  0.939972\n",
      "1  0.939972\n",
      "2  0.939972\n",
      "3  0.939972\n",
      "4  0.939972\n",
      "5  0.939972\n",
      "6  0.939972\n",
      "7  0.939972\n",
      "8  0.939972\n",
      "9  0.939972\n",
      "\n",
      "Sesudah Standarisasi:\n",
      "\n",
      "       Date\n",
      "0  0.939972\n",
      "1  0.939972\n",
      "2  0.939972\n",
      "3  0.939972\n",
      "4  0.939972\n",
      "5  0.939972\n",
      "6  0.939972\n",
      "7  0.939972\n",
      "8  0.939972\n",
      "9  0.939972\n"
     ]
    }
   ],
   "source": [
    " #Membuat salinan dataset\n",
    "data_copy=df.copy()\n",
    "\n",
    "# memilih atribut yang ingin di standarisasi\n",
    "attribute_to_standardize = 'Date'\n",
    "\n",
    "# Inisialisasi StandardScaler\n",
    "scaler = StandardScaler()\n",
    "\n",
    "# Standarisasi atribut\n",
    "data_copy[attribute_to_standardize] = scaler.fit_transform(data_copy[[attribute_to_standardize]])\n",
    "\n",
    "# Menampilkan atribut 'Date' sebelum dan sesudah standarisasi\n",
    "print(\"Atribut 'Date' Sebelum dan Sesudah Standarisasi:\\n\")\n",
    "print(\"Sebelum Standarisasi:\\n\")\n",
    "print(data_copy[[attribute_to_standardize]].head(10))\n",
    "print(\"\\nSesudah Standarisasi:\\n\")\n",
    "print(data_copy[[attribute_to_standardize]].head(10))\n"
   ]
  },
  {
   "cell_type": "markdown",
   "id": "32e5acf2-a10d-417e-b2ed-6a0b8d783b62",
   "metadata": {},
   "source": [
    "## 4. Lakukan Data cleaning pada data dengan nilai null dengan bilangan bulat : median/modus, bilangan desimal : mean, tulisan : modus"
   ]
  },
  {
   "cell_type": "markdown",
   "id": "7145f936-f0e4-4618-961e-90b94c844061",
   "metadata": {},
   "source": [
    "Nilai NULL"
   ]
  },
  {
   "cell_type": "code",
   "execution_count": 19,
   "id": "42fda762-5027-4e11-a61e-d631d0f8650c",
   "metadata": {},
   "outputs": [
    {
     "data": {
      "text/plain": [
       "Name              0\n",
       "Date              0\n",
       "Rate              0\n",
       "Votes             0\n",
       "Genre             0\n",
       "Duration        301\n",
       "Type              0\n",
       "Certificate     450\n",
       "Episodes          0\n",
       "Nudity         1459\n",
       "Violence        674\n",
       "Profanity       658\n",
       "Alcohol         771\n",
       "Frightening     858\n",
       "dtype: int64"
      ]
     },
     "execution_count": 19,
     "metadata": {},
     "output_type": "execute_result"
    }
   ],
   "source": [
    "df.isnull().sum()"
   ]
  },
  {
   "cell_type": "markdown",
   "id": "a26f5167-366c-415f-954e-b0acc190e0d5",
   "metadata": {},
   "source": [
    "Data Bilangan Bulat dengan Strategi Median"
   ]
  },
  {
   "cell_type": "code",
   "execution_count": 47,
   "id": "12144ae1-708b-4d77-9df5-de2822b3d9c7",
   "metadata": {},
   "outputs": [
    {
     "data": {
      "text/plain": [
       "Name              0\n",
       "Date              0\n",
       "Rate              0\n",
       "Votes             0\n",
       "Genre             0\n",
       "Duration          0\n",
       "Type              0\n",
       "Certificate     344\n",
       "Episodes          0\n",
       "Nudity         1182\n",
       "Violence        531\n",
       "Profanity       524\n",
       "Alcohol         614\n",
       "Frightening     670\n",
       "dtype: int64"
      ]
     },
     "execution_count": 47,
     "metadata": {},
     "output_type": "execute_result"
    }
   ],
   "source": [
    "Median = SimpleImputer(strategy=\"median\")\n",
    "\n",
    "df[\"Date\"] = Median.fit_transform(df[[\"Date\"]])\n",
    "\n",
    "df.isna().sum()"
   ]
  },
  {
   "cell_type": "code",
   "execution_count": 22,
   "id": "12f2d942-b5a5-4933-8861-f4f1febf988f",
   "metadata": {},
   "outputs": [
    {
     "name": "stdout",
     "output_type": "stream",
     "text": [
      "10      2021.0\n",
      "50      2021.0\n",
      "100     2021.0\n",
      "200     2013.0\n",
      "300     2009.0\n",
      "400     2021.0\n",
      "500     1974.0\n",
      "600     2019.0\n",
      "700     2005.0\n",
      "800     2021.0\n",
      "1000    2011.0\n",
      "Name: Date, dtype: float64\n"
     ]
    }
   ],
   "source": [
    "print(df.Date[[10,50,100,200,300,400,500,600,700,800,1000]])"
   ]
  },
  {
   "cell_type": "markdown",
   "id": "aeafa39b-44c1-44de-b33a-577d7d17c6e1",
   "metadata": {},
   "source": [
    "Data Bilangan Desimal dengan strategi Mean"
   ]
  },
  {
   "cell_type": "code",
   "execution_count": 46,
   "id": "cf366eea-bdb7-4183-8364-4ed325e81abe",
   "metadata": {},
   "outputs": [
    {
     "data": {
      "text/plain": [
       "Name              0\n",
       "Date              0\n",
       "Rate              0\n",
       "Votes             0\n",
       "Genre             0\n",
       "Duration          0\n",
       "Type              0\n",
       "Certificate     344\n",
       "Episodes          0\n",
       "Nudity         1182\n",
       "Violence        531\n",
       "Profanity       524\n",
       "Alcohol         614\n",
       "Frightening     670\n",
       "dtype: int64"
      ]
     },
     "execution_count": 46,
     "metadata": {},
     "output_type": "execute_result"
    }
   ],
   "source": [
    "Mean = SimpleImputer(strategy=\"mean\")\n",
    "\n",
    "df[\"Duration\"] = Mean.fit_transform(df[[\"Duration\"]])\n",
    "\n",
    "df.isna().sum()"
   ]
  },
  {
   "cell_type": "code",
   "execution_count": 25,
   "id": "1374608a-80ca-4cec-9ec8-2f1dcd05bb51",
   "metadata": {},
   "outputs": [
    {
     "name": "stdout",
     "output_type": "stream",
     "text": [
      "15      60.000000\n",
      "100     94.576995\n",
      "200     60.000000\n",
      "300     44.000000\n",
      "400    107.000000\n",
      "500     23.000000\n",
      "600    118.000000\n",
      "700      7.000000\n",
      "800     58.000000\n",
      "900    108.000000\n",
      "100     94.576995\n",
      "Name: Duration, dtype: float64\n"
     ]
    }
   ],
   "source": [
    "print(df.Duration[[15,100,200,300,400,500,600,700,800,900,100]])"
   ]
  },
  {
   "cell_type": "markdown",
   "id": "98281b58-0555-4862-8e29-06c67596c6da",
   "metadata": {},
   "source": [
    "Data Tulisan Dengan Startegi Modus"
   ]
  },
  {
   "cell_type": "code",
   "execution_count": 58,
   "id": "c91dba8a-b9da-43e1-a533-dbcf68529caa",
   "metadata": {},
   "outputs": [
    {
     "data": {
      "text/plain": [
       "Name              0\n",
       "Date              0\n",
       "Rate              0\n",
       "Votes             0\n",
       "Genre             0\n",
       "Duration          0\n",
       "Type              0\n",
       "Certificate     344\n",
       "Episodes          0\n",
       "Nudity         1182\n",
       "Violence        531\n",
       "Profanity       524\n",
       "Alcohol         614\n",
       "Frightening     670\n",
       "dtype: int64"
      ]
     },
     "execution_count": 58,
     "metadata": {},
     "output_type": "execute_result"
    }
   ],
   "source": [
    "# Daftar kolom yang akan diisi dengan modus\n",
    "kolom_tulisan = ['Name', 'Genre', 'Votes', 'Type']\n",
    "\n",
    "# Loop melalui kolom-kolom tersebut dan ganti nilai null dengan modus\n",
    "for kolom in kolom_tulisan:\n",
    "    modus = df[kolom].mode()[0]  # Mengambil modus kolom\n",
    "    df[kolom].fillna(modus, inplace=True)\n",
    "\n",
    "df.isna().sum()"
   ]
  },
  {
   "cell_type": "markdown",
   "id": "01139e72-9c72-4254-9deb-e92ef84abe34",
   "metadata": {},
   "source": [
    "## 5. Lakukan Data cleaning pada data dengan nilai duplikat"
   ]
  },
  {
   "cell_type": "code",
   "execution_count": 34,
   "id": "46456931-d458-40c4-8a6c-e362a1d1842d",
   "metadata": {},
   "outputs": [
    {
     "name": "stdout",
     "output_type": "stream",
     "text": [
      "Jumlah Data Duplikat : \n"
     ]
    },
    {
     "data": {
      "text/plain": [
       "1150"
      ]
     },
     "execution_count": 34,
     "metadata": {},
     "output_type": "execute_result"
    }
   ],
   "source": [
    "df[df.duplicated()]\n",
    "\n",
    "print(\"Jumlah Data Duplikat : \")\n",
    "df.duplicated().sum()"
   ]
  },
  {
   "cell_type": "code",
   "execution_count": 35,
   "id": "78d84832-f41d-4e9a-a19c-5fa5df755c08",
   "metadata": {},
   "outputs": [
    {
     "name": "stdout",
     "output_type": "stream",
     "text": [
      "Jumlah data duplicated setelah di drop :\n"
     ]
    },
    {
     "data": {
      "text/plain": [
       "0"
      ]
     },
     "execution_count": 35,
     "metadata": {},
     "output_type": "execute_result"
    }
   ],
   "source": [
    "df.drop_duplicates(inplace=True)\n",
    "\n",
    "hasil = df.reset_index(drop=True)\n",
    "print(\"Jumlah data duplicated setelah di drop :\")\n",
    "hasil.duplicated().sum()"
   ]
  },
  {
   "cell_type": "markdown",
   "id": "f560ea28-1cec-4c65-bc9b-8c1525a02275",
   "metadata": {},
   "source": [
    "## 6. Mengganti tipe data salah satu attribute angka"
   ]
  },
  {
   "cell_type": "markdown",
   "id": "c1ea1535-c82d-4911-897e-cd66cf3959c9",
   "metadata": {},
   "source": [
    "Mengganti tipe data pdays yang sebelumnya int menjadi float"
   ]
  },
  {
   "cell_type": "code",
   "execution_count": 37,
   "id": "af706ddf-9b70-41e8-91f8-6e82284d7dbe",
   "metadata": {},
   "outputs": [
    {
     "data": {
      "text/plain": [
       "Name            object\n",
       "Date           float64\n",
       "Rate            object\n",
       "Votes           object\n",
       "Genre           object\n",
       "Duration       float64\n",
       "Type            object\n",
       "Certificate     object\n",
       "Episodes        object\n",
       "Nudity          object\n",
       "Violence        object\n",
       "Profanity       object\n",
       "Alcohol         object\n",
       "Frightening     object\n",
       "dtype: object"
      ]
     },
     "execution_count": 37,
     "metadata": {},
     "output_type": "execute_result"
    }
   ],
   "source": [
    "df.dtypes"
   ]
  },
  {
   "cell_type": "markdown",
   "id": "efb08360-16c5-448c-864a-d982b13a882a",
   "metadata": {},
   "source": [
    "mengubah float menjadi int karena tidak ada tipe data int"
   ]
  },
  {
   "cell_type": "code",
   "execution_count": 38,
   "id": "cda5fa66-64e2-4268-a39e-318d530d2bd8",
   "metadata": {},
   "outputs": [
    {
     "name": "stdout",
     "output_type": "stream",
     "text": [
      "Tipe data Date sesudah di ubah :\n"
     ]
    },
    {
     "data": {
      "text/plain": [
       "Name            object\n",
       "Date             int64\n",
       "Rate            object\n",
       "Votes           object\n",
       "Genre           object\n",
       "Duration       float64\n",
       "Type            object\n",
       "Certificate     object\n",
       "Episodes        object\n",
       "Nudity          object\n",
       "Violence        object\n",
       "Profanity       object\n",
       "Alcohol         object\n",
       "Frightening     object\n",
       "dtype: object"
      ]
     },
     "execution_count": 38,
     "metadata": {},
     "output_type": "execute_result"
    }
   ],
   "source": [
    "\n",
    "df['Date'] = df['Date'].astype('int64')\n",
    "\n",
    "print(\"Tipe data Date sesudah di ubah :\")\n",
    "df.dtypes"
   ]
  },
  {
   "cell_type": "markdown",
   "id": "a8b82b53-ec43-4464-99ef-57b9b789d42d",
   "metadata": {},
   "source": [
    "mengubah tipe data int menjadi string"
   ]
  },
  {
   "cell_type": "code",
   "execution_count": null,
   "id": "fd8638b2-ff92-4c01-856d-d3dda51a6c65",
   "metadata": {},
   "outputs": [],
   "source": [
    "df['Date'] = df['Date'].astype('object')\n",
    "\n",
    "print(\"Tipe data Date sesudah di ubah :\")\n",
    "df.dtypes"
   ]
  },
  {
   "cell_type": "markdown",
   "id": "b36ebd59-e4c8-42c8-8ff2-5960ad963c8c",
   "metadata": {},
   "source": [
    "## 7. Melakukan one hot encoding pada dataset"
   ]
  },
  {
   "cell_type": "code",
   "execution_count": 41,
   "id": "1e5c74ce-9bba-4217-8f38-1e564bea3782",
   "metadata": {},
   "outputs": [
    {
     "name": "stderr",
     "output_type": "stream",
     "text": [
      "C:\\Users\\LENOVO\\AppData\\Local\\Programs\\Python\\Python310\\lib\\site-packages\\sklearn\\preprocessing\\_encoders.py:975: FutureWarning: `sparse` was renamed to `sparse_output` in version 1.2 and will be removed in 1.4. `sparse_output` is ignored unless you leave `sparse` to its default value.\n",
      "  warnings.warn(\n"
     ]
    },
    {
     "data": {
      "text/html": [
       "<div>\n",
       "<style scoped>\n",
       "    .dataframe tbody tr th:only-of-type {\n",
       "        vertical-align: middle;\n",
       "    }\n",
       "\n",
       "    .dataframe tbody tr th {\n",
       "        vertical-align: top;\n",
       "    }\n",
       "\n",
       "    .dataframe thead th {\n",
       "        text-align: right;\n",
       "    }\n",
       "</style>\n",
       "<table border=\"1\" class=\"dataframe\">\n",
       "  <thead>\n",
       "    <tr style=\"text-align: right;\">\n",
       "      <th></th>\n",
       "      <th>Name</th>\n",
       "      <th>Date</th>\n",
       "      <th>Rate</th>\n",
       "      <th>Votes</th>\n",
       "      <th>Genre</th>\n",
       "      <th>Duration</th>\n",
       "      <th>Type</th>\n",
       "      <th>Certificate</th>\n",
       "      <th>Episodes</th>\n",
       "      <th>Nudity</th>\n",
       "      <th>...</th>\n",
       "      <th>4810</th>\n",
       "      <th>4811</th>\n",
       "      <th>4812</th>\n",
       "      <th>4813</th>\n",
       "      <th>4814</th>\n",
       "      <th>4815</th>\n",
       "      <th>4816</th>\n",
       "      <th>4817</th>\n",
       "      <th>4818</th>\n",
       "      <th>4819</th>\n",
       "    </tr>\n",
       "  </thead>\n",
       "  <tbody>\n",
       "    <tr>\n",
       "      <th>0</th>\n",
       "      <td>No Time to Die</td>\n",
       "      <td>2021</td>\n",
       "      <td>7.6</td>\n",
       "      <td>107,163</td>\n",
       "      <td>Action, Adventure, Thriller</td>\n",
       "      <td>163.0</td>\n",
       "      <td>Film</td>\n",
       "      <td>PG-13</td>\n",
       "      <td>-</td>\n",
       "      <td>Mild</td>\n",
       "      <td>...</td>\n",
       "      <td>0.0</td>\n",
       "      <td>0.0</td>\n",
       "      <td>0.0</td>\n",
       "      <td>0.0</td>\n",
       "      <td>0.0</td>\n",
       "      <td>0.0</td>\n",
       "      <td>0.0</td>\n",
       "      <td>0.0</td>\n",
       "      <td>0.0</td>\n",
       "      <td>0.0</td>\n",
       "    </tr>\n",
       "    <tr>\n",
       "      <th>1</th>\n",
       "      <td>The Guilty</td>\n",
       "      <td>2021</td>\n",
       "      <td>6.3</td>\n",
       "      <td>64,375</td>\n",
       "      <td>Crime, Drama, Thriller</td>\n",
       "      <td>90.0</td>\n",
       "      <td>Film</td>\n",
       "      <td>R</td>\n",
       "      <td>-</td>\n",
       "      <td>NaN</td>\n",
       "      <td>...</td>\n",
       "      <td>0.0</td>\n",
       "      <td>0.0</td>\n",
       "      <td>0.0</td>\n",
       "      <td>0.0</td>\n",
       "      <td>0.0</td>\n",
       "      <td>0.0</td>\n",
       "      <td>0.0</td>\n",
       "      <td>0.0</td>\n",
       "      <td>0.0</td>\n",
       "      <td>0.0</td>\n",
       "    </tr>\n",
       "    <tr>\n",
       "      <th>2</th>\n",
       "      <td>The Many Saints of Newark</td>\n",
       "      <td>2021</td>\n",
       "      <td>6.4</td>\n",
       "      <td>27,145</td>\n",
       "      <td>Crime, Drama</td>\n",
       "      <td>120.0</td>\n",
       "      <td>Film</td>\n",
       "      <td>R</td>\n",
       "      <td>-</td>\n",
       "      <td>Moderate</td>\n",
       "      <td>...</td>\n",
       "      <td>0.0</td>\n",
       "      <td>0.0</td>\n",
       "      <td>0.0</td>\n",
       "      <td>0.0</td>\n",
       "      <td>0.0</td>\n",
       "      <td>0.0</td>\n",
       "      <td>0.0</td>\n",
       "      <td>0.0</td>\n",
       "      <td>0.0</td>\n",
       "      <td>0.0</td>\n",
       "    </tr>\n",
       "    <tr>\n",
       "      <th>3</th>\n",
       "      <td>Venom: Let There Be Carnage</td>\n",
       "      <td>2021</td>\n",
       "      <td>6.4</td>\n",
       "      <td>30,443</td>\n",
       "      <td>Action, Adventure, Sci-Fi</td>\n",
       "      <td>97.0</td>\n",
       "      <td>Film</td>\n",
       "      <td>PG-13</td>\n",
       "      <td>-</td>\n",
       "      <td>NaN</td>\n",
       "      <td>...</td>\n",
       "      <td>0.0</td>\n",
       "      <td>0.0</td>\n",
       "      <td>0.0</td>\n",
       "      <td>0.0</td>\n",
       "      <td>0.0</td>\n",
       "      <td>0.0</td>\n",
       "      <td>0.0</td>\n",
       "      <td>0.0</td>\n",
       "      <td>0.0</td>\n",
       "      <td>0.0</td>\n",
       "    </tr>\n",
       "    <tr>\n",
       "      <th>4</th>\n",
       "      <td>Dune</td>\n",
       "      <td>2021</td>\n",
       "      <td>8.3</td>\n",
       "      <td>84,636</td>\n",
       "      <td>Action, Adventure, Drama</td>\n",
       "      <td>155.0</td>\n",
       "      <td>Film</td>\n",
       "      <td>PG-13</td>\n",
       "      <td>-</td>\n",
       "      <td>NaN</td>\n",
       "      <td>...</td>\n",
       "      <td>0.0</td>\n",
       "      <td>0.0</td>\n",
       "      <td>0.0</td>\n",
       "      <td>0.0</td>\n",
       "      <td>0.0</td>\n",
       "      <td>0.0</td>\n",
       "      <td>0.0</td>\n",
       "      <td>0.0</td>\n",
       "      <td>0.0</td>\n",
       "      <td>0.0</td>\n",
       "    </tr>\n",
       "  </tbody>\n",
       "</table>\n",
       "<p>5 rows × 4834 columns</p>\n",
       "</div>"
      ],
      "text/plain": [
       "                          Name  Date Rate    Votes  \\\n",
       "0               No Time to Die  2021  7.6  107,163   \n",
       "1                   The Guilty  2021  6.3   64,375   \n",
       "2    The Many Saints of Newark  2021  6.4   27,145   \n",
       "3  Venom: Let There Be Carnage  2021  6.4   30,443   \n",
       "4                         Dune  2021  8.3   84,636   \n",
       "\n",
       "                         Genre  Duration  Type Certificate Episodes    Nudity  \\\n",
       "0  Action, Adventure, Thriller     163.0  Film       PG-13        -      Mild   \n",
       "1       Crime, Drama, Thriller      90.0  Film           R        -       NaN   \n",
       "2                 Crime, Drama     120.0  Film           R        -  Moderate   \n",
       "3    Action, Adventure, Sci-Fi      97.0  Film       PG-13        -       NaN   \n",
       "4     Action, Adventure, Drama     155.0  Film       PG-13        -       NaN   \n",
       "\n",
       "   ... 4810 4811 4812 4813  4814  4815  4816  4817  4818  4819  \n",
       "0  ...  0.0  0.0  0.0  0.0   0.0   0.0   0.0   0.0   0.0   0.0  \n",
       "1  ...  0.0  0.0  0.0  0.0   0.0   0.0   0.0   0.0   0.0   0.0  \n",
       "2  ...  0.0  0.0  0.0  0.0   0.0   0.0   0.0   0.0   0.0   0.0  \n",
       "3  ...  0.0  0.0  0.0  0.0   0.0   0.0   0.0   0.0   0.0   0.0  \n",
       "4  ...  0.0  0.0  0.0  0.0   0.0   0.0   0.0   0.0   0.0   0.0  \n",
       "\n",
       "[5 rows x 4834 columns]"
      ]
     },
     "execution_count": 41,
     "metadata": {},
     "output_type": "execute_result"
    }
   ],
   "source": [
    "one_encoder = OneHotEncoder(sparse=False)\n",
    "\n",
    "onehot = one_encoder.fit_transform(df[[\"Name\"]])\n",
    "df_onehot = pd.DataFrame(onehot)\n",
    "df_encoder = df.join(df_onehot)\n",
    "df_encoder.head()"
   ]
  },
  {
   "cell_type": "code",
   "execution_count": null,
   "id": "7fe6808c-2b14-468b-8a6f-3ca096a8da38",
   "metadata": {},
   "outputs": [],
   "source": []
  }
 ],
 "metadata": {
  "kernelspec": {
   "display_name": "Python 3 (ipykernel)",
   "language": "python",
   "name": "python3"
  },
  "language_info": {
   "codemirror_mode": {
    "name": "ipython",
    "version": 3
   },
   "file_extension": ".py",
   "mimetype": "text/x-python",
   "name": "python",
   "nbconvert_exporter": "python",
   "pygments_lexer": "ipython3",
   "version": "3.10.7"
  }
 },
 "nbformat": 4,
 "nbformat_minor": 5
}
